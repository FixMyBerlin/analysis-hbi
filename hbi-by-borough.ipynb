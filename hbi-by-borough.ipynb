{
 "cells": [
  {
   "cell_type": "code",
   "execution_count": 67,
   "metadata": {},
   "outputs": [],
   "source": [
    "import requests\n",
    "import json\n",
    "from datetime import date\n",
    "from collections import defaultdict\n",
    "from operator import itemgetter"
   ]
  },
  {
   "cell_type": "code",
   "execution_count": 35,
   "metadata": {},
   "outputs": [
    {
     "name": "stdout",
     "output_type": "stream",
     "text": "Fetching https://fixmyberlin.de/api/v1/sections?page=1&page_size=200\nHave 200\nFetching https://fixmyberlin.de/api/v1/sections?page=2&page_size=200\nHave 400\nFetching https://fixmyberlin.de/api/v1/sections?page=3&page_size=200\nHave 600\nFetching https://fixmyberlin.de/api/v1/sections?page=4&page_size=200\nHave 800\nFetching https://fixmyberlin.de/api/v1/sections?page=5&page_size=200\nHave 1000\nFetching https://fixmyberlin.de/api/v1/sections?page=6&page_size=200\nHave 1200\nFetching https://fixmyberlin.de/api/v1/sections?page=7&page_size=200\nHave 1400\nFetching https://fixmyberlin.de/api/v1/sections?page=8&page_size=200\nHave 1600\nFetching https://fixmyberlin.de/api/v1/sections?page=9&page_size=200\nHave 1800\nFetching https://fixmyberlin.de/api/v1/sections?page=10&page_size=200\nHave 2000\nFetching https://fixmyberlin.de/api/v1/sections?page=11&page_size=200\nHave 2200\nFetching https://fixmyberlin.de/api/v1/sections?page=12&page_size=200\nHave 2400\nFetching https://fixmyberlin.de/api/v1/sections?page=13&page_size=200\nHave 2483\n2483\n"
    }
   ],
   "source": [
    "# Get source data from api\n",
    "def endpoint(page):\n",
    "    return f\"https://fixmyberlin.de/api/v1/sections?page={page}&page_size=200\"\n",
    "\n",
    "page = 1\n",
    "has_next = True\n",
    "data = []\n",
    "\n",
    "while (has_next):\n",
    "    print(f\"Fetching {endpoint(page)}\")\n",
    "    resp = requests.get(endpoint(page)).json()\n",
    "    data += resp[\"results\"]\n",
    "    print(f\"Have {len(data)}\")\n",
    "    has_next = resp[\"next\"] is not None\n",
    "    page += 1\n",
    "print(len(data))\n"
   ]
  },
  {
   "cell_type": "code",
   "execution_count": 43,
   "metadata": {},
   "outputs": [],
   "source": [
    "# Save data fetched\n",
    "today = date.today().strftime(\"%y%m%d\")\n",
    "with open(f\"hbi_{today}.json\", \"w\") as f:\n",
    "    json.dump(data, f)"
   ]
  },
  {
   "cell_type": "code",
   "execution_count": 84,
   "metadata": {},
   "outputs": [],
   "source": [
    "# Define the format for data collection\n",
    "by_borough = defaultdict(lambda: {\n",
    "   \"count\": 0,\n",
    "   \"total_length\": 0.0,\n",
    "   \"hbi_avg_product\": 0.0\n",
    "})\n",
    "\n",
    "# Accumulate data by iterating over planning sections\n",
    "for entry in data:\n",
    "    target = by_borough[entry[\"borough\"]]  # points at the target borough\n",
    "    for side in entry[\"details\"]:\n",
    "        target[\"count\"] += 1\n",
    "        target[\"total_length\"] += side[\"length\"]\n",
    "        target[\"hbi_avg_product\"] += side[\"length\"] * side[\"happy_bike_index\"]\n",
    "\n",
    "# Collect results in CSV format\n",
    "out = \"Bezirk,Planungsabschnitte,Länge (km),HBI (gewichteter Durchschnitt)\\n\"\n",
    "for (name, borough) in sorted(by_borough.items(), key=itemgetter(0)):\n",
    "    hbi_avg = borough[\"hbi_avg_product\"] / borough[\"total_length\"]\n",
    "    length = borough[\"total_length\"] / 1000.0\n",
    "    count = borough[\"count\"]\n",
    "    out += f\"{name},{count},{length:.2f},{hbi_avg:.2f}\\n\"\n"
   ]
  },
  {
   "cell_type": "code",
   "execution_count": 85,
   "metadata": {},
   "outputs": [],
   "source": [
    "with open(\"by_borough.csv\", \"w\") as f:\n",
    "    f.write(out)"
   ]
  }
 ],
 "metadata": {
  "kernelspec": {
   "display_name": "Python 3",
   "language": "python",
   "name": "python3"
  },
  "language_info": {
   "codemirror_mode": {
    "name": "ipython",
    "version": 3
   },
   "file_extension": ".py",
   "mimetype": "text/x-python",
   "name": "python",
   "nbconvert_exporter": "python",
   "pygments_lexer": "ipython3",
   "version": "3.6.6-final"
  }
 },
 "nbformat": 4,
 "nbformat_minor": 4
}